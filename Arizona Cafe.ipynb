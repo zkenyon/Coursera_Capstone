{
 "cells": [
  {
   "cell_type": "markdown",
   "metadata": {},
   "source": [
    "# Problem Question\n",
    "\n",
    "**My audience would be someone that is looking to open a cafe in Arizona and they are wondering where the best place to open a shop would be.**"
   ]
  },
  {
   "cell_type": "markdown",
   "metadata": {},
   "source": [
    "## Approach and Data\n",
    "\n",
    "For any cafe to be successful a steady stream of customers is needed. To accomplish this, areas near ASU campus locations will be explored using the FourSquare API as college students tend to drink loads of coffee and are often up late during most of the week. With ASU being our 'centers', the other is the surrounding area will be considered since afternoon 'coffee runs' are pretty common if there's a spot close enough. Finally, areas with an abundance of cafes already will be marked as places to avoid. I will then be using clustering as an attempt to discern the best neighborhood to open a cafe."
   ]
  },
  {
   "cell_type": "markdown",
   "metadata": {},
   "source": [
    "Trending data will be excluded from this analysis due to the COVID-19 outbreak skewing data with many businesses, including ASU, being temporarily closed. "
   ]
  },
  {
   "cell_type": "code",
   "execution_count": null,
   "metadata": {},
   "outputs": [],
   "source": []
  }
 ],
 "metadata": {
  "kernelspec": {
   "display_name": "Python 3",
   "language": "python",
   "name": "python3"
  },
  "language_info": {
   "codemirror_mode": {
    "name": "ipython",
    "version": 3
   },
   "file_extension": ".py",
   "mimetype": "text/x-python",
   "name": "python",
   "nbconvert_exporter": "python",
   "pygments_lexer": "ipython3",
   "version": "3.7.3"
  }
 },
 "nbformat": 4,
 "nbformat_minor": 2
}
