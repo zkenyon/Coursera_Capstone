{
 "cells": [
  {
   "cell_type": "markdown",
   "metadata": {},
   "source": [
    "# IBM Data Science Capstone: Where to Open a Coffee Shop?\n",
    "## Author: Zack Kenyon"
   ]
  },
  {
   "cell_type": "markdown",
   "metadata": {},
   "source": [
    "## Introduction\n",
    "\n",
    "### Business Problem\n",
    "This project will focus on determining the best location to open a coffee shop if you are wanting to take advantage of Arizona State University's very large student population. ASU has 4 campuses: Tempe, Downtown Phoenix, West (glendale) and Polytechnic (East Mesa). Each of these campuses offer vasitly different landscapes in regards to their surrounding areas. By analyzing these areas, the goal is to find neighborhoods near campus with an abundance of non-coffee related businesses. Consideration will also be given to the amount of major chains, Starbucks and Dutch Bros. compared to non-chains in the area.  \n",
    "\n",
    "### Target Audience\n",
    "The audience for a project such as this would be any aspiring restaurant owners, especially those interested in opening a cafe. Most restaurants close within a year of opening and while other factors certainly contribute to this, the hardest to overcome is a poor location as it is something that cannot easily be improved.    "
   ]
  },
  {
   "cell_type": "markdown",
   "metadata": {},
   "source": [
    "## Data Collection \n",
    "\n",
    "### Geopy \n",
    "To convert the campus addresses to latitudes and longitudes, Geopy's nominatim package will be implemented.\n",
    "\n",
    "### FourSquare API\n",
    "Information regarding the surrounding businesses will be collected through use of FourSquare's API with each campus as the center point for searches. The radius will be set to 1600 as that gives approximately 1 miles worth of businesses to sample. From the results, the business names, categories, and locations will used to measure the denisty of coffee shops surrounding each campus, the number of chains, and finally number of other non-restuarant businesses. \n",
    "\n",
    "This information will ultimately determine which of campuses should be explored as the best option for opening a coffee shop as it gives insight into the amount of competition in the area and the amount of potential customers outside of just ASU. The best location being the one that minimizes the former while maximizing the latter. \n",
    "\n",
    "### Trending Venues\n",
    "DISCLAIMER: Trending data will be excluded from this analysis due to the COVID-19 outbreak. As it stands, trending data will be largely skewed with many businesses, including ASU itself, being temporarily closed. "
   ]
  },
  {
   "cell_type": "code",
   "execution_count": null,
   "metadata": {},
   "outputs": [],
   "source": []
  }
 ],
 "metadata": {
  "kernelspec": {
   "display_name": "Python 3",
   "language": "python",
   "name": "python3"
  },
  "language_info": {
   "codemirror_mode": {
    "name": "ipython",
    "version": 3
   },
   "file_extension": ".py",
   "mimetype": "text/x-python",
   "name": "python",
   "nbconvert_exporter": "python",
   "pygments_lexer": "ipython3",
   "version": "3.7.3"
  }
 },
 "nbformat": 4,
 "nbformat_minor": 2
}
